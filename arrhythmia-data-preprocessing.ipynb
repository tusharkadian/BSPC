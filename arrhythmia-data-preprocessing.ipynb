{
 "cells": [
  {
   "cell_type": "code",
   "execution_count": 50,
   "metadata": {},
   "outputs": [],
   "source": [
    "import numpy as np\n",
    "import pandas as pd\n",
    "import os\n",
    "from tqdm import tqdm\n",
    "from collections import Counter\n",
    "from sklearn.preprocessing import OneHotEncoder\n",
    "from sklearn.model_selection import train_test_split"
   ]
  },
  {
   "cell_type": "markdown",
   "metadata": {},
   "source": [
    "### Load Labels"
   ]
  },
  {
   "cell_type": "code",
   "execution_count": null,
   "metadata": {},
   "outputs": [],
   "source": [
    "diagnostic = pd.read_csv(\"Diagnostics.csv\")\n",
    "print(Counter(diagnostic[\"Rhythm\"]))"
   ]
  },
  {
   "cell_type": "markdown",
   "metadata": {},
   "source": [
    "### Merge 11 classes into 4"
   ]
  },
  {
   "cell_type": "code",
   "execution_count": 3,
   "metadata": {},
   "outputs": [],
   "source": [
    "# SA - SI (Sinus Irregularity)\n",
    "\n",
    "merge_dict = {\n",
    "              \"AFIB\": \"AFIB\", \"AF\": \"AFIB\",\n",
    "              \"SVT\": \"GSVT\", \"AT\": \"GSVT\", \"SAAWR\": \"GSVT\", \"ST\":\"GSVT\", \"AVNRT\":\"GSVT\", \"AVRT\": \"GSVT\",\n",
    "              \"SB\": \"SB\",\n",
    "              \"SR\": \"SR\", \"SA\":\"SR\"\n",
    "             }"
   ]
  },
  {
   "cell_type": "code",
   "execution_count": null,
   "metadata": {},
   "outputs": [],
   "source": [
    "rhytm_col = []\n",
    "for r in diagnostic[\"Rhythm\"]:\n",
    "    rhytm_col.append(merge_dict[r])\n",
    "\n",
    "print(Counter(rhytm_col))"
   ]
  },
  {
   "cell_type": "code",
   "execution_count": 5,
   "metadata": {},
   "outputs": [],
   "source": [
    "diagnostic['label'] = rhytm_col "
   ]
  },
  {
   "cell_type": "code",
   "execution_count": null,
   "metadata": {},
   "outputs": [],
   "source": [
    "print(diagnostic[[\"FileName\", \"Rhythm\", \"label\"]])"
   ]
  },
  {
   "cell_type": "markdown",
   "metadata": {},
   "source": [
    "### Load ECG Data"
   ]
  },
  {
   "cell_type": "code",
   "execution_count": null,
   "metadata": {},
   "outputs": [],
   "source": [
    "path = os.getcwd()\n",
    "data_path = path + '/ECGDataDenoised/'\n",
    "files = os.listdir(data_path)\n",
    "print('Total files:', len(files))"
   ]
  },
  {
   "cell_type": "code",
   "execution_count": null,
   "metadata": {},
   "outputs": [],
   "source": [
    "mapping = dict()\n",
    "for fn, l in zip(diagnostic[\"FileName\"], diagnostic[\"label\"]):\n",
    "    mapping[fn] = l\n",
    "\n",
    "print(len(mapping))"
   ]
  },
  {
   "cell_type": "markdown",
   "metadata": {},
   "source": [
    "### Load Denoised Data"
   ]
  },
  {
   "cell_type": "code",
   "execution_count": null,
   "metadata": {},
   "outputs": [],
   "source": [
    "x = []\n",
    "y = []\n",
    "for f in tqdm(files, desc = \"Loading Data\"):\n",
    "    file_stats = os.stat(data_path + f)\n",
    "    file_size = file_stats.st_size / 1024\n",
    "    if file_size < 425:\n",
    "        continue\n",
    "    \n",
    "    fn = f.split('.')[0]\n",
    "    df = pd.read_csv(data_path + f, header=None)\n",
    "    data = df.to_numpy().transpose()\n",
    "\n",
    "    if df.isnull().values.any() or np.isnan(data).any():\n",
    "        print(\"NaN Error file: \", fn)\n",
    "        is_NaN = df.isnull()\n",
    "        row_has_NaN = is_NaN.any(axis=1)\n",
    "        rows_with_NaN = df[row_has_NaN]\n",
    "        print(rows_with_NaN)\n",
    "        break\n",
    "\n",
    "    if 0 in data:\n",
    "        print(\"Zero Error file: \", fn)\n",
    "        break\n",
    "    \n",
    "    if data.shape[0] != 12 or data.shape[1] != 5000:\n",
    "        print(\"Shape Error in file: \", fn)\n",
    "        break\n",
    "    \n",
    "    x.append(data)\n",
    "    y.append(mapping[fn])"
   ]
  },
  {
   "cell_type": "code",
   "execution_count": null,
   "metadata": {},
   "outputs": [],
   "source": [
    "print(\"x length: \", len(x), \", y length: \", len(y))"
   ]
  },
  {
   "cell_type": "code",
   "execution_count": null,
   "metadata": {},
   "outputs": [],
   "source": [
    "x = np.array(x)\n",
    "print(x.shape)\n",
    "print(Counter(y))"
   ]
  },
  {
   "cell_type": "code",
   "execution_count": null,
   "metadata": {},
   "outputs": [],
   "source": [
    "# Tranform single dimension to 2 dimensions\n",
    "y_np = np.array(y)\n",
    "y_np = y_np.reshape(-1, 1)\n",
    "print(y_np.shape)"
   ]
  },
  {
   "cell_type": "code",
   "execution_count": null,
   "metadata": {},
   "outputs": [],
   "source": [
    "# Order: AFIB, GSVT, SB, SR \n",
    "encoder  = OneHotEncoder(sparse=False)\n",
    "y_onehot = encoder.fit_transform(y_np)\n",
    "print(y_onehot.shape)"
   ]
  },
  {
   "cell_type": "markdown",
   "metadata": {},
   "source": [
    "##### Save 500 Hz data"
   ]
  },
  {
   "cell_type": "code",
   "execution_count": null,
   "metadata": {},
   "outputs": [],
   "source": [
    "x_train, x_test, y_train, y_test = train_test_split(x, y, test_size=0.20, random_state=10, stratify=y)\n",
    "\n",
    "np.save('x_train_500.npy', x_train)\n",
    "np.save('y_train.npy', y_train)\n",
    "np.save('x_test_500.npy', x_test)\n",
    "np.save('y_test.npy', y_test)"
   ]
  },
  {
   "cell_type": "markdown",
   "metadata": {},
   "source": [
    "##### Create and Save 100 Hz data"
   ]
  },
  {
   "cell_type": "code",
   "execution_count": null,
   "metadata": {},
   "outputs": [],
   "source": [
    "pip install wfdb\n",
    "from wfdb.processing import resample_sig\n",
    "\n",
    "\n",
    "def downsample_wfdb(x):\n",
    "  n = x.shape[0]\n",
    "  data = []\n",
    "  for i in range(n):\n",
    "    sample = []\n",
    "    for j in range(12):\n",
    "      sample.append(resample_sig(x[i][j], 500, 100)[0])\n",
    "    data.append(sample)\n",
    "  return np.array(data)\n",
    "\n",
    "\n",
    "x_train100 = downsample_wfdb(x_train)\n",
    "x_test100  = downsample_wfdb(x_test)\n",
    "print('x_train:', x_train100.shape, 'x_test:', x_test100.shape)\n",
    "\n",
    "np.save('x_train_100.npy', x_train100)\n",
    "np.save('x_test_100.npy', x_test100)"
   ]
  }
 ],
 "metadata": {
  "kernelspec": {
   "display_name": "Python 3.8.8 64-bit",
   "name": "python388jvsc74a57bd0a8803c129bcc143ce9596625ce4e8f44576b00d342e47a09a7984861dc0f4e14"
  },
  "language_info": {
   "codemirror_mode": {
    "name": "ipython",
    "version": 3
   },
   "file_extension": ".py",
   "mimetype": "text/x-python",
   "name": "python",
   "nbconvert_exporter": "python",
   "pygments_lexer": "ipython3",
   "version": "3.8.8"
  },
  "orig_nbformat": 2
 },
 "nbformat": 4,
 "nbformat_minor": 2
}
